{
  "nbformat": 4,
  "nbformat_minor": 0,
  "metadata": {
    "anaconda-cloud": {},
    "kernelspec": {
      "display_name": "Python 3",
      "language": "python",
      "name": "python3"
    },
    "language_info": {
      "codemirror_mode": {
        "name": "ipython",
        "version": 3
      },
      "file_extension": ".py",
      "mimetype": "text/x-python",
      "name": "python",
      "nbconvert_exporter": "python",
      "pygments_lexer": "ipython3",
      "version": "3.7.4"
    },
    "colab": {
      "name": "CSCI_S89C_hw4_Lucy_Tan.ipynb",
      "version": "0.3.2",
      "provenance": []
    }
  },
  "cells": [
    {
      "cell_type": "markdown",
      "metadata": {
        "id": "vygzM_YLdou7",
        "colab_type": "text"
      },
      "source": [
        "# Student Name: Lucy Tan"
      ]
    },
    {
      "cell_type": "markdown",
      "metadata": {
        "id": "qHO-GWoMdou9",
        "colab_type": "text"
      },
      "source": [
        "# Preface"
      ]
    },
    {
      "cell_type": "markdown",
      "metadata": {
        "id": "1QHyGnsGdou-",
        "colab_type": "text"
      },
      "source": [
        "In this problem we consider patients with end-stage liver disease (ESLD). We assume that patient's health condition is fully characterized by the Model for End-stage Liver Disease (MELD) score (Jae-Hyeon Ahn and John Hornberger, Involving patients in the cadaveric kidney transplant allocation process: a decision-theoretic perspective. Manage Sci. 1996;42(5):629–41).\n",
        "\n",
        "The MELD score ranges from 6 to 40 and is derived based on the probability of survival at 3 months for patients with ESLD. Data in ESLD is usually sparse and often aggregated into Stages. We assume that there are 18 stages based on the ESLD: Stage 1, Stage2, ..., Stage 18. The time step is 1 year and the actions in Stages 1 through 18 are \"wait\" and \"transplant\". \n",
        "\n",
        "We assume that the Markov property holds. There are three additional states of the Markov Decision Process: \"Pretransplant Death\", \"Posttransplant Life\" and \"Posttransplant Death\" with no actions available. Assume that the length of episodes is T=50. \"Pretransplant Death\" and \"Posttransplant Death\" are absorbing states (time stops).\n",
        "\n",
        "If patient selects \"wait\", the possible transitions are   \n",
        "1) Stage 1->Stage 1, Stage 1->Stage 2, Stage 1->Pretransplant Death  \n",
        "2) For k in {2,3,4,...17}, Stage k->Stage (k-1), Stage k->Stage k, Stage k->Stage (k+1), Stage k->Pretransplant Death  \n",
        "3) Stage 18->Stage 17, Stage 18->Stage 18, Stage 18->Pretransplant Death\n",
        "\n",
        "If a patient selects \"transplant\" in Stage k, k=1,2,...,18, the only possible transition is  \n",
        "4) Stage k->\"Posttransplant Life\"\n",
        "\n",
        "Finally, there is the transition  \n",
        "5) \"Posttransplant Life\"->\"Posttransplant Death\"  \n",
        "\n",
        "Assume that   \n",
        "\n",
        "P(Stage (k+1)|Stage k, \"wait\")=0.10 for k=1,2,...,17  \n",
        "P(Stage (k-1)|Stage k, \"wait\")=0.02 for k=2,3,...,18  \n",
        "\n",
        "P(Pretransplant Death|Stage k, \"wait\")=k*c for k=1,2,...,18 and some constant c.  \n",
        "\n",
        "P(Stage k|Stage k, \"wait\")=0.9-kc for k=1   \n",
        "P(Stage k|Stage k, \"wait\")=0.98-kc for k=18   \n",
        "P(Stage k|Stage k, \"wait\")=0.88-kc for k=2,...,17   \n",
        "\n",
        "Further, assume that   \n",
        "P(Posttransplant Death|Posttransplant Life)= 4*c for the same constant c.\n",
        "\n",
        "\n",
        "The patient gets reward 1 in all states \"Stage k\" (k=1,2,...,18) and reward 0.2 in the \"Posttransplant Life\" state. We assume the discounting parameter $\\gamma=0.97$, one of the most common discounting rate used in medical decision making (Gold MR, Siegel JE, Russell LB, Weinstein MC. Cost-Effectiveness in Health and Medicine. Oxford University Press; New York: 1996).\n"
      ]
    },
    {
      "cell_type": "markdown",
      "metadata": {
        "id": "HHe0EYgEdou_",
        "colab_type": "text"
      },
      "source": [
        "# Problem 1 (20 points)\n",
        "Assume c = 0.01. Using the Monte Carlo control with $\\varepsilon$-soft policy (without Exploring starts), estimate the policy for each State k, k=1,2,...,18. Use $\\varepsilon$ = 0.05."
      ]
    },
    {
      "cell_type": "code",
      "metadata": {
        "id": "SHAVNwx_dovA",
        "colab_type": "code",
        "colab": {
          "base_uri": "https://localhost:8080/",
          "height": 326
        },
        "outputId": "567d196f-6a04-49e6-e46a-5d6d0c60264e"
      },
      "source": [
        "import collections\n",
        "import numpy as np\n",
        "import random\n",
        "\n",
        "def admissible_actions(state):\n",
        "    actions = list((0,1)) if state in admissible_stages() else None\n",
        "    return actions\n",
        "\n",
        "def admissible_stages():\n",
        "    return list(range(1,19))\n",
        "\n",
        "def additional_states():\n",
        "    return ['pre_t_d', 'post_t_l', 'post_t_d']\n",
        "\n",
        "def get_trans_probs(state, action, c):\n",
        "    mapping = {}   # [new state, reward]\n",
        "    pre_t_d = additional_states()[0]\n",
        "    post_t_l = additional_states()[1]\n",
        "    post_t_d = additional_states()[2]\n",
        "    if state == post_t_l:\n",
        "        mapping[(post_t_d, 0)] = 4 * c\n",
        "        mapping[(state, 0.2)] = 1 - 4 * c\n",
        "        return mapping\n",
        "    if state == pre_t_d or state == post_t_d:\n",
        "        mapping[(state, 0)] = 1\n",
        "        return mapping\n",
        "    \n",
        "    stages = admissible_stages()\n",
        "    wait = admissible_actions(state)[0]\n",
        "    transplant = admissible_actions(state)[1]\n",
        "    if action == wait and state in stages:\n",
        "        mapping[(pre_t_d, 0)] = state * c\n",
        "        if state in stages[0:17]:\n",
        "            mapping[(state + 1, 1)] = 0.1\n",
        "        if state in stages[1:18]:\n",
        "            mapping[(state - 1, 1)] = 0.02\n",
        "        if state == stages[0]:\n",
        "            mapping[(state, 1)] = 0.9 - state * c\n",
        "        if state in stages[1:17]:\n",
        "            mapping[(state, 1)] = 0.88 - state * c\n",
        "        if state == stages[17]:\n",
        "            mapping[(state, 1)] = 0.98 - state * c\n",
        "    if action == transplant and state in stages:\n",
        "        mapping[(post_t_l, 0.2)] = 1\n",
        "    return mapping\n",
        "    \n",
        "def get_policy(num_episodes, T, gamma, epsilon, c):\n",
        "    pi = np.full((18, 2), fill_value=0.5)   # arbitrary epsilon-soft policy\n",
        "    Q = np.zeros((18, 2), dtype=float)\n",
        "    returns = collections.defaultdict(list)\n",
        "    for episode_num in range(num_episodes):\n",
        "        episode = generate_episode(pi, T, c, episode_num)\n",
        "        states = episode[0]\n",
        "        actions = episode[1]\n",
        "        rewards = episode[2]\n",
        "        G = 0\n",
        "        for t in range(T-1, -1, -1):\n",
        "            G = gamma * G + rewards[t+1]\n",
        "            action = actions[t]\n",
        "            if action is None or occurred_earlier(states, actions, t):\n",
        "                continue\n",
        "            state = states[t] - 1\n",
        "            returns[(state, action)].append(G)\n",
        "            Q[state, action] = np.mean(returns[(state, action)])\n",
        "            greedy_action = np.random.choice(np.flatnonzero(Q[state] == Q[state].max()))\n",
        "            allowed_actions = admissible_actions(state + 1)\n",
        "            for a in allowed_actions:\n",
        "                if a == greedy_action:\n",
        "                    pi[state, a] = 1 - epsilon + epsilon / len(allowed_actions)\n",
        "                else:\n",
        "                    pi[state, a] = epsilon / len(allowed_actions)\n",
        "    return pi\n",
        "                \n",
        "def generate_episode(pi, T, c, episode_num):\n",
        "    episode = collections.defaultdict(list)\n",
        "    state = episode_num % 18 + 1\n",
        "    episode[2].append(None)   # to fill in R0\n",
        "    for t in range(T):\n",
        "        episode[0].append(state)\n",
        "        action = get_action(pi, state)\n",
        "        episode[1].append(action)\n",
        "        new_state, reward = get_next(state, action, c)\n",
        "        episode[2].append(reward)\n",
        "        state = new_state\n",
        "    return episode\n",
        "\n",
        "def get_action(pi, state):\n",
        "    rand = random.random()\n",
        "    if state not in admissible_stages():\n",
        "        return None\n",
        "    return 0 if rand < pi[state - 1][0] else 1\n",
        "\n",
        "def get_next(state, action, c):\n",
        "    mapping = get_trans_probs(state, action, c)\n",
        "    transitions = []\n",
        "    probs = []\n",
        "    for trans, prob in mapping.items():\n",
        "        transitions.append(trans)\n",
        "        probs.append(prob)\n",
        "    index = np.random.choice(len(transitions), p=probs)\n",
        "    new_state, reward = transitions[index]\n",
        "    return new_state, reward\n",
        "    \n",
        "def occurred_earlier(states, actions, cur_timestep):\n",
        "    for earlier_timestep in range(cur_timestep):\n",
        "        if states[cur_timestep] == states[earlier_timestep] and actions[cur_timestep] == actions[earlier_timestep]:\n",
        "            return True\n",
        "    return False\n",
        "\n",
        "c = 0.01\n",
        "epsilon = 0.05\n",
        "gamma = 0.97\n",
        "T = 50\n",
        "num_episodes = 10000\n",
        "\n",
        "print('Epsilon-soft policy gives [probability of wait, probability of transplant] for each of 18 states:')\n",
        "print(get_policy(num_episodes, T, gamma, epsilon, c))"
      ],
      "execution_count": 3,
      "outputs": [
        {
          "output_type": "stream",
          "text": [
            "Epsilon-soft policy gives [probability of wait, probability of transplant] for each of 18 states:\n",
            "[[0.975 0.025]\n",
            " [0.975 0.025]\n",
            " [0.975 0.025]\n",
            " [0.975 0.025]\n",
            " [0.975 0.025]\n",
            " [0.975 0.025]\n",
            " [0.975 0.025]\n",
            " [0.975 0.025]\n",
            " [0.975 0.025]\n",
            " [0.975 0.025]\n",
            " [0.975 0.025]\n",
            " [0.975 0.025]\n",
            " [0.975 0.025]\n",
            " [0.975 0.025]\n",
            " [0.975 0.025]\n",
            " [0.975 0.025]\n",
            " [0.975 0.025]\n",
            " [0.975 0.025]]\n"
          ],
          "name": "stdout"
        }
      ]
    },
    {
      "cell_type": "markdown",
      "metadata": {
        "id": "E171GpwTdovR",
        "colab_type": "text"
      },
      "source": [
        "# Problem 2 (5 points)\n",
        "Run the algorithm you developed in Problem 1 for c =0.001,0.002,0.003,...,0.040. For each c, identify the minimal k such that the agent will select \"transplant\" (i.e. minimal k such that policy $\\pi$(trsansplant|Stage k) > 0.5) in State k. Plot this k versus c. Discuss the result."
      ]
    },
    {
      "cell_type": "code",
      "metadata": {
        "id": "VxDgrqRpdovS",
        "colab_type": "code",
        "colab": {
          "base_uri": "https://localhost:8080/",
          "height": 295
        },
        "outputId": "85cd0fee-94de-48d4-caf7-406152cd1d5f"
      },
      "source": [
        "import matplotlib.pyplot as plt\n",
        "cs = []\n",
        "ks = []\n",
        "for i in range(1, 41):\n",
        "    c = i * 0.001\n",
        "    pi = get_policy(num_episodes, T, gamma, epsilon, c)\n",
        "    try:\n",
        "        k = np.min(np.flatnonzero(0.5 < pi[:,1])) + 1\n",
        "    except ValueError:\n",
        "        continue\n",
        "    cs.append(c)\n",
        "    ks.append(k)\n",
        "plt.plot(cs, ks)\n",
        "plt.title('Dependence of minimum stage for transplant on c')\n",
        "plt.ylabel('Minimum stage for transplant (k)')\n",
        "plt.xlabel('Death coefficient (c)')\n",
        "plt.show()"
      ],
      "execution_count": 4,
      "outputs": [
        {
          "output_type": "display_data",
          "data": {
            "image/png": "[encoded data removed]",
            "text/plain": [
              "<Figure size 432x288 with 1 Axes>"
            ]
          },
          "metadata": {
            "tags": []
          }
        }
      ]
    },
    {
      "cell_type": "markdown",
      "metadata": {
        "id": "54JeIqwSdovc",
        "colab_type": "text"
      },
      "source": [
        "As c increases, there is a downward trend for minimum stage of transplant (k).\n",
        "\n",
        "Explanation:  \n",
        "Increasing c directly increases the transition probability for pretransplant death. \n",
        "Furthermore, later stages get a greater increase in probability of pretransplant death than earlier stages. For example, the transition probability of getting pretransplant death when the stage is 17 is 17c, compared to 2c when the stage is 2. When c=0.01, 17c=0.17 and 2c=0.02. When c=0.04, 17c=0.68 and 2c=0.08. This shows that the transition probability of getting pretransplant death at stage 17 increased by 0.51, whereas getting pretransplant death at stage 2 only increased by 0.06. Choosing to wait is less appealing, given the increased probability of getting pretransplant death. As a result, as c increases, it is better to choose transplant while at an earlier stage. \n",
        "\n",
        "Note: while c also directly increases the transition probability for posttransplant death, it is at a much lower rate overall (4c) than the increase in pretransplant death (for most states).\n",
        "\n",
        "Why the minimum stage of transplant is not monotonically decreasing:  \n",
        "This may be due to the policy not converging to an optimal epsilon-soft policy. In the problem, the epsilon-soft policy has a 0.95 probability of choosing the greedy action and 0.05 of choosing randomly. In the 0.05 probability of choosing randomly, the greedy action is chosen half of the time (since there are always two actions). Therefore, there is only 0.025 probability of choosing the non-greedy action that could potentially be a better action than the greedy one.\n",
        "As a result, the number of episodes would need to be very large for the policy to converge to an optimal epsilon-soft policy and for the graph to show a monotonically decreasing function."
      ]
    },
    {
      "cell_type": "code",
      "metadata": {
        "id": "INU7-y1gdovd",
        "colab_type": "code",
        "colab": {}
      },
      "source": [
        ""
      ],
      "execution_count": 0,
      "outputs": []
    }
  ]
}